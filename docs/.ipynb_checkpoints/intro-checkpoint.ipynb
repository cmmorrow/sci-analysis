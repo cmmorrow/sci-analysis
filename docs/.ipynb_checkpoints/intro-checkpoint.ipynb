{
 "cells": [
  {
   "cell_type": "markdown",
   "metadata": {},
   "source": [
    "# sci-analysis"
   ]
  },
  {
   "cell_type": "markdown",
   "metadata": {},
   "source": [
    "An easy to use and powerful python-based data exploration and analysis tool"
   ]
  },
  {
   "cell_type": "markdown",
   "metadata": {},
   "source": [
    "## Current Version"
   ]
  },
  {
   "cell_type": "markdown",
   "metadata": {},
   "source": [
    "2.2 --- Released January 5, 2019"
   ]
  },
  {
   "cell_type": "markdown",
   "metadata": {},
   "source": [
    "### What is sci-analysis?"
   ]
  },
  {
   "cell_type": "markdown",
   "metadata": {},
   "source": [
    "sci-analysis is a python package for quickly performing exploratory data analysis (EDA). It aims to make performing EDA easier for newcomers and experienced data analysts alike by abstracting away the specific SciPy, NumPy, and Matplotlib commands. This is accomplished by using sci-analysis's ``analyze()`` function.\n",
    "\n",
    "The main features of sci-analysis are:\n",
    "* Fast EDA with the analyze() function.\n",
    "* Great looking graphs without writing several lines of matplotlib code.\n",
    "* Automatic use of the most appropriate hypothesis test for the supplied data.\n",
    "* Automatic handling of missing values.\n",
    "\n",
    "Currently, sci-analysis is capable of performing four common statistical analysis techniques:\n",
    "* Histograms and summary of numeric data\n",
    "* Histograms and frequency of categorical data\n",
    "* Bivariate and linear regression analysis\n",
    "* Location testing"
   ]
  },
  {
   "cell_type": "markdown",
   "metadata": {},
   "source": [
    "### What's new in sci-analysis version 2.2?"
   ]
  },
  {
   "cell_type": "markdown",
   "metadata": {},
   "source": [
    "* Version 2.2 adds the ability to add data labels to scatter plots.\n",
    "* The default behavior of the histogram and statistics was changed from assuming a sample, to assuming a population.\n",
    "* Fixed a bug involving the Mann Whitney U test, where the minimum size was set incorrectly.\n",
    "* Verified compatibility with python 3.7."
   ]
  }
 ],
 "metadata": {
  "kernelspec": {
   "display_name": "Python 3",
   "language": "python",
   "name": "python3"
  },
  "language_info": {
   "codemirror_mode": {
    "name": "ipython",
    "version": 3
   },
   "file_extension": ".py",
   "mimetype": "text/x-python",
   "name": "python",
   "nbconvert_exporter": "python",
   "pygments_lexer": "ipython3",
   "version": "3.7.2"
  }
 },
 "nbformat": 4,
 "nbformat_minor": 2
}
