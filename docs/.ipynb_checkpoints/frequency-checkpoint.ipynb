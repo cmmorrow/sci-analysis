{
 "cells": [
  {
   "cell_type": "markdown",
   "metadata": {},
   "source": [
    "# Frequency"
   ]
  },
  {
   "cell_type": "markdown",
   "metadata": {},
   "source": [
    "Frequency analysis in sci-analysis is similar to Distribution analysis, but provides summary statistics and a [bar chart](https://en.wikipedia.org/wiki/Bar_chart) of categorical data instead of numeric data. It provides the count, percent, and rank of the occurrence of each category in a given sequence."
   ]
  },
  {
   "cell_type": "markdown",
   "metadata": {},
   "source": [
    "## Interpreting the Graphs"
   ]
  },
  {
   "cell_type": "markdown",
   "metadata": {},
   "source": [
    "The only graph shown by the frequency analysis is a bar chart where each bar is a unique category in the data set. By default the bar chart displays the frequency (counts) of each category in the bar chart, but can be configured to display the percent of each category instead."
   ]
  },
  {
   "cell_type": "code",
   "execution_count": 1,
   "metadata": {},
   "outputs": [],
   "source": [
    "import numpy as np\n",
    "import scipy.stats as st\n",
    "from sci_analysis import analyze\n",
    "\n",
    "%matplotlib inline"
   ]
  },
  {
   "cell_type": "code",
   "execution_count": 2,
   "metadata": {},
   "outputs": [],
   "source": [
    "np.random.seed(987654321)\n",
    "pets = ['cat', 'dog', 'hamster', 'rabbit', 'bird']\n",
    "sequence = [pets[np.random.randint(5)] for _ in range(200)]"
   ]
  },
  {
   "cell_type": "code",
   "execution_count": 3,
   "metadata": {},
   "outputs": [
    {
     "data": {
      "image/png": "[encoded data removed]",
      "text/plain": [
       "<Figure size 396x504 with 1 Axes>"
      ]
     },
     "metadata": {
      "needs_background": "light"
     },
     "output_type": "display_data"
    },
    {
     "name": "stdout",
     "output_type": "stream",
     "text": [
      "\n",
      "\n",
      "Overall Statistics\n",
      "------------------\n",
      "\n",
      "Total            =  200\n",
      "Number of Groups =  5\n",
      "\n",
      "\n",
      "Statistics\n",
      "----------\n",
      "\n",
      "Rank          Frequency     Percent       Category      \n",
      "--------------------------------------------------------\n",
      "1             46             23.0000      bird          \n",
      "2             43             21.5000      hamster       \n",
      "3             41             20.5000      cat           \n",
      "4             36             18.0000      dog           \n",
      "5             34             17.0000      rabbit        \n"
     ]
    }
   ],
   "source": [
    "analyze(sequence)"
   ]
  },
  {
   "cell_type": "markdown",
   "metadata": {},
   "source": [
    "## Interpreting the Statistics"
   ]
  },
  {
   "cell_type": "markdown",
   "metadata": {},
   "source": [
    "* **Total** - The total number of data points in the data set.\n",
    "* **Number of Groups** - The number of unique categories in the data set.\n",
    "* **Rank** - The ranking of largest category to smallest.\n",
    "* **Frequency** - The number occurrences of each categorical value in the data set.\n",
    "* **Percent** - The percent each category makes up of the entire data set.\n",
    "* **Category** - The unique categorical values in the data set."
   ]
  },
  {
   "cell_type": "markdown",
   "metadata": {},
   "source": [
    "## Usage"
   ]
  },
  {
   "cell_type": "raw",
   "metadata": {},
   "source": [
    ".. py:function:: analyze(sequence[, percent=False, vertical=True, grid=True, labels=True, dropna=False, order=None, title='Frequency', name='Categories', xname='Categories', yname=None, save_to=None])\n",
    "\n",
    "    Perform a Frequency analysis on *sequence*.\n",
    "    \n",
    "    :param array-like sequence: The array-like object to analyze. It can be a list, tuple, numpy array or pandas Series of string values.\n",
    "    :param bool percent: Display the percent of each category on the bar chart if **True**, otherwise will display the count of each category.\n",
    "    :param bool vertical: Display the bar chart with a vertical orientation if **True**.\n",
    "    :param bool grid: Add grid lines to the bar chart if **True**.\n",
    "    :param bool labels: Display count or percent labels on the bar chart for each group if **True**.\n",
    "    :param bool dropna: If **False**, missing values in sequence are grouped together as their own category on the bar chart.\n",
    "    :param array-like order: Sets the order of the categories displayed on the bar chart according to the order of values in *order*.\n",
    "    :param str title: The title of the graph.\n",
    "    :param str name: The name of the data to show on the graph.\n",
    "    :param str xname: Alias for name.\n",
    "    :param str yname: The label of the y-axis of the bar chart. The default is \"Percent\" if percent is **True**, otherwise the default is \"Count.\"\n",
    "    :param str save_to: If a string value, the path to save the graph to."
   ]
  },
  {
   "cell_type": "markdown",
   "metadata": {},
   "source": [
    "## Argument Examples"
   ]
  },
  {
   "cell_type": "markdown",
   "metadata": {},
   "source": [
    "### sequence"
   ]
  },
  {
   "cell_type": "markdown",
   "metadata": {},
   "source": [
    "A sequence of categorical values to be analyzed."
   ]
  },
  {
   "cell_type": "code",
   "execution_count": 5,
   "metadata": {},
   "outputs": [
    {
     "data": {
      "image/png": "[encoded data removed]",
      "text/plain": [
       "<Figure size 396x504 with 1 Axes>"
      ]
     },
     "metadata": {
      "needs_background": "light"
     },
     "output_type": "display_data"
    },
    {
     "name": "stdout",
     "output_type": "stream",
     "text": [
      "\n",
      "\n",
      "Overall Statistics\n",
      "------------------\n",
      "\n",
      "Total            =  200\n",
      "Number of Groups =  5\n",
      "\n",
      "\n",
      "Statistics\n",
      "----------\n",
      "\n",
      "Rank          Frequency     Percent       Category      \n",
      "--------------------------------------------------------\n",
      "1             46             23.0000      bird          \n",
      "2             43             21.5000      hamster       \n",
      "3             41             20.5000      cat           \n",
      "4             36             18.0000      dog           \n",
      "5             34             17.0000      rabbit        \n"
     ]
    }
   ],
   "source": [
    "analyze(sequence)"
   ]
  },
  {
   "cell_type": "markdown",
   "metadata": {},
   "source": [
    "### percent"
   ]
  },
  {
   "cell_type": "markdown",
   "metadata": {},
   "source": [
    "Controls whether percents are displayed instead of counts on the bar chart. The default is **False**."
   ]
  },
  {
   "cell_type": "code",
   "execution_count": 6,
   "metadata": {},
   "outputs": [
    {
     "data": {
      "image/png": "[encoded data removed]",
      "text/plain": [
       "<Figure size 396x504 with 1 Axes>"
      ]
     },
     "metadata": {
      "needs_background": "light"
     },
     "output_type": "display_data"
    },
    {
     "name": "stdout",
     "output_type": "stream",
     "text": [
      "\n",
      "\n",
      "Overall Statistics\n",
      "------------------\n",
      "\n",
      "Total            =  200\n",
      "Number of Groups =  5\n",
      "\n",
      "\n",
      "Statistics\n",
      "----------\n",
      "\n",
      "Rank          Frequency     Percent       Category      \n",
      "--------------------------------------------------------\n",
      "1             46             23.0000      bird          \n",
      "2             43             21.5000      hamster       \n",
      "3             41             20.5000      cat           \n",
      "4             36             18.0000      dog           \n",
      "5             34             17.0000      rabbit        \n"
     ]
    }
   ],
   "source": [
    "analyze(\n",
    "    sequence, \n",
    "    percent=True,\n",
    ")"
   ]
  },
  {
   "cell_type": "markdown",
   "metadata": {},
   "source": [
    "### vertical"
   ]
  },
  {
   "cell_type": "markdown",
   "metadata": {},
   "source": [
    "Controls whether the bar chart is displayed in a vertical orientation or not. The default is **True**."
   ]
  },
  {
   "cell_type": "code",
   "execution_count": 8,
   "metadata": {
    "scrolled": false
   },
   "outputs": [
    {
     "data": {
      "image/png": "[encoded data removed]",
      "text/plain": [
       "<Figure size 504x396 with 1 Axes>"
      ]
     },
     "metadata": {
      "needs_background": "light"
     },
     "output_type": "display_data"
    },
    {
     "name": "stdout",
     "output_type": "stream",
     "text": [
      "\n",
      "\n",
      "Overall Statistics\n",
      "------------------\n",
      "\n",
      "Total            =  200\n",
      "Number of Groups =  5\n",
      "\n",
      "\n",
      "Statistics\n",
      "----------\n",
      "\n",
      "Rank          Frequency     Percent       Category      \n",
      "--------------------------------------------------------\n",
      "1             46             23.0000      bird          \n",
      "2             43             21.5000      hamster       \n",
      "3             41             20.5000      cat           \n",
      "4             36             18.0000      dog           \n",
      "5             34             17.0000      rabbit        \n"
     ]
    }
   ],
   "source": [
    "analyze(\n",
    "    sequence, \n",
    "    vertical=False,\n",
    ")"
   ]
  },
  {
   "cell_type": "markdown",
   "metadata": {},
   "source": [
    "### grid"
   ]
  },
  {
   "cell_type": "markdown",
   "metadata": {},
   "source": [
    "Controls whether the grid is displayed on the bar chart or not. The default is **False**."
   ]
  },
  {
   "cell_type": "code",
   "execution_count": 9,
   "metadata": {
    "scrolled": false
   },
   "outputs": [
    {
     "data": {
      "image/png": "[encoded data removed]",
      "text/plain": [
       "<Figure size 396x504 with 1 Axes>"
      ]
     },
     "metadata": {
      "needs_background": "light"
     },
     "output_type": "display_data"
    },
    {
     "name": "stdout",
     "output_type": "stream",
     "text": [
      "\n",
      "\n",
      "Overall Statistics\n",
      "------------------\n",
      "\n",
      "Total            =  200\n",
      "Number of Groups =  5\n",
      "\n",
      "\n",
      "Statistics\n",
      "----------\n",
      "\n",
      "Rank          Frequency     Percent       Category      \n",
      "--------------------------------------------------------\n",
      "1             46             23.0000      bird          \n",
      "2             43             21.5000      hamster       \n",
      "3             41             20.5000      cat           \n",
      "4             36             18.0000      dog           \n",
      "5             34             17.0000      rabbit        \n"
     ]
    }
   ],
   "source": [
    "analyze(\n",
    "    sequence, \n",
    "    grid=True,\n",
    ")"
   ]
  },
  {
   "cell_type": "markdown",
   "metadata": {},
   "source": [
    "### labels"
   ]
  },
  {
   "cell_type": "markdown",
   "metadata": {},
   "source": [
    "Controls whether the count or percent labels are displayed or not. The default is **True**."
   ]
  },
  {
   "cell_type": "code",
   "execution_count": 4,
   "metadata": {},
   "outputs": [
    {
     "data": {
      "image/png": "[encoded data removed]",
      "text/plain": [
       "<Figure size 396x504 with 1 Axes>"
      ]
     },
     "metadata": {
      "needs_background": "light"
     },
     "output_type": "display_data"
    },
    {
     "name": "stdout",
     "output_type": "stream",
     "text": [
      "\n",
      "\n",
      "Overall Statistics\n",
      "------------------\n",
      "\n",
      "Total            =  200\n",
      "Number of Groups =  5\n",
      "\n",
      "\n",
      "Statistics\n",
      "----------\n",
      "\n",
      "Rank          Frequency     Percent       Category      \n",
      "--------------------------------------------------------\n",
      "1             46             23.0000      bird          \n",
      "2             43             21.5000      hamster       \n",
      "3             41             20.5000      cat           \n",
      "4             36             18.0000      dog           \n",
      "5             34             17.0000      rabbit        \n"
     ]
    }
   ],
   "source": [
    "analyze(\n",
    "    sequence, \n",
    "    labels=False,\n",
    ")"
   ]
  },
  {
   "cell_type": "markdown",
   "metadata": {},
   "source": [
    "### dropna"
   ]
  },
  {
   "cell_type": "markdown",
   "metadata": {},
   "source": [
    "Removes missing values from the bar chart if **True**, otherwise, missing values are grouped together into a category called \"nan\". The default is **False**."
   ]
  },
  {
   "cell_type": "code",
   "execution_count": 5,
   "metadata": {},
   "outputs": [],
   "source": [
    "# Convert 10 random values in sequence to NaN.\n",
    "for _ in range(10):\n",
    "    sequence[np.random.randint(200)] = np.nan"
   ]
  },
  {
   "cell_type": "code",
   "execution_count": 9,
   "metadata": {},
   "outputs": [
    {
     "data": {
      "image/png": "[encoded data removed]",
      "text/plain": [
       "<Figure size 396x504 with 1 Axes>"
      ]
     },
     "metadata": {
      "needs_background": "light"
     },
     "output_type": "display_data"
    },
    {
     "name": "stdout",
     "output_type": "stream",
     "text": [
      "\n",
      "\n",
      "Overall Statistics\n",
      "------------------\n",
      "\n",
      "Total            =  200\n",
      "Number of Groups =  6\n",
      "\n",
      "\n",
      "Statistics\n",
      "----------\n",
      "\n",
      "Rank          Frequency     Percent       Category      \n",
      "--------------------------------------------------------\n",
      "1             43             21.5000      bird          \n",
      "2             42             21.0000      hamster       \n",
      "3             39             19.5000      cat           \n",
      "4             33             16.5000      dog           \n",
      "4             33             16.5000      rabbit        \n",
      "5             10             5.0000        nan          \n"
     ]
    }
   ],
   "source": [
    "analyze(sequence)"
   ]
  },
  {
   "cell_type": "code",
   "execution_count": 8,
   "metadata": {},
   "outputs": [
    {
     "data": {
      "image/png": "[encoded data removed]",
      "text/plain": [
       "<Figure size 396x504 with 1 Axes>"
      ]
     },
     "metadata": {
      "needs_background": "light"
     },
     "output_type": "display_data"
    },
    {
     "name": "stdout",
     "output_type": "stream",
     "text": [
      "\n",
      "\n",
      "Overall Statistics\n",
      "------------------\n",
      "\n",
      "Total            =  200\n",
      "Number of Groups =  6\n",
      "\n",
      "\n",
      "Statistics\n",
      "----------\n",
      "\n",
      "Rank          Frequency     Percent       Category      \n",
      "--------------------------------------------------------\n",
      "1             43             21.5000      bird          \n",
      "2             42             21.0000      hamster       \n",
      "3             39             19.5000      cat           \n",
      "4             33             16.5000      dog           \n",
      "4             33             16.5000      rabbit        \n",
      "5             10             5.0000        nan          \n"
     ]
    }
   ],
   "source": [
    "analyze(\n",
    "    sequence, \n",
    "    dropna=True,\n",
    ")"
   ]
  },
  {
   "cell_type": "markdown",
   "metadata": {},
   "source": [
    "### order"
   ]
  },
  {
   "cell_type": "markdown",
   "metadata": {},
   "source": [
    "A list of category names that sets the order for how categories are displayed on the bar chart. If sequence contains missing values, the category \"nan\" is shown first."
   ]
  },
  {
   "cell_type": "code",
   "execution_count": 11,
   "metadata": {},
   "outputs": [
    {
     "data": {
      "image/png": "[encoded data removed]",
      "text/plain": [
       "<Figure size 396x504 with 1 Axes>"
      ]
     },
     "metadata": {
      "needs_background": "light"
     },
     "output_type": "display_data"
    },
    {
     "name": "stdout",
     "output_type": "stream",
     "text": [
      "\n",
      "\n",
      "Overall Statistics\n",
      "------------------\n",
      "\n",
      "Total            =  200\n",
      "Number of Groups =  6\n",
      "\n",
      "\n",
      "Statistics\n",
      "----------\n",
      "\n",
      "Rank          Frequency     Percent       Category      \n",
      "--------------------------------------------------------\n",
      "1             43             21.5000      bird          \n",
      "2             42             21.0000      hamster       \n",
      "3             39             19.5000      cat           \n",
      "4             33             16.5000      dog           \n",
      "4             33             16.5000      rabbit        \n",
      "5             10             5.0000        nan          \n"
     ]
    }
   ],
   "source": [
    "analyze(\n",
    "    sequence, \n",
    "    order=['rabbit', 'hamster', 'dog', 'cat', 'bird'],\n",
    ")"
   ]
  },
  {
   "cell_type": "markdown",
   "metadata": {},
   "source": [
    "If there are categories in *sequence* that aren't listed in *order*, they are reported as \"nan\" on the bar chart."
   ]
  },
  {
   "cell_type": "code",
   "execution_count": 12,
   "metadata": {},
   "outputs": [
    {
     "data": {
      "image/png": "[encoded data removed]",
      "text/plain": [
       "<Figure size 396x504 with 1 Axes>"
      ]
     },
     "metadata": {
      "needs_background": "light"
     },
     "output_type": "display_data"
    },
    {
     "name": "stdout",
     "output_type": "stream",
     "text": [
      "\n",
      "\n",
      "Overall Statistics\n",
      "------------------\n",
      "\n",
      "Total            =  200\n",
      "Number of Groups =  6\n",
      "\n",
      "\n",
      "Statistics\n",
      "----------\n",
      "\n",
      "Rank          Frequency     Percent       Category      \n",
      "--------------------------------------------------------\n",
      "1             43             21.5000      bird          \n",
      "2             42             21.0000      hamster       \n",
      "3             39             19.5000      cat           \n",
      "4             33             16.5000      dog           \n",
      "4             33             16.5000      rabbit        \n",
      "5             10             5.0000        nan          \n"
     ]
    }
   ],
   "source": [
    "analyze(\n",
    "    sequence, \n",
    "    order=['bird', 'cat', 'dog'],\n",
    ")"
   ]
  },
  {
   "cell_type": "markdown",
   "metadata": {},
   "source": [
    "Missing values can be dropped from the bar chart with *dropna*=**True**. "
   ]
  },
  {
   "cell_type": "code",
   "execution_count": 13,
   "metadata": {
    "code_folding": []
   },
   "outputs": [
    {
     "data": {
      "image/png": "[encoded data removed]",
      "text/plain": [
       "<Figure size 396x504 with 1 Axes>"
      ]
     },
     "metadata": {
      "needs_background": "light"
     },
     "output_type": "display_data"
    },
    {
     "name": "stdout",
     "output_type": "stream",
     "text": [
      "\n",
      "\n",
      "Overall Statistics\n",
      "------------------\n",
      "\n",
      "Total            =  200\n",
      "Number of Groups =  6\n",
      "\n",
      "\n",
      "Statistics\n",
      "----------\n",
      "\n",
      "Rank          Frequency     Percent       Category      \n",
      "--------------------------------------------------------\n",
      "1             43             21.5000      bird          \n",
      "2             42             21.0000      hamster       \n",
      "3             39             19.5000      cat           \n",
      "4             33             16.5000      dog           \n",
      "4             33             16.5000      rabbit        \n",
      "5             10             5.0000        nan          \n"
     ]
    }
   ],
   "source": [
    "analyze(\n",
    "    sequence, \n",
    "    order=['bird', 'cat', 'dog'], \n",
    "    dropna=True,\n",
    ")"
   ]
  }
 ],
 "metadata": {
  "kernelspec": {
   "display_name": "Python 3",
   "language": "python",
   "name": "python3"
  },
  "language_info": {
   "codemirror_mode": {
    "name": "ipython",
    "version": 3
   },
   "file_extension": ".py",
   "mimetype": "text/x-python",
   "name": "python",
   "nbconvert_exporter": "python",
   "pygments_lexer": "ipython3",
   "version": "3.7.3"
  }
 },
 "nbformat": 4,
 "nbformat_minor": 2
}
