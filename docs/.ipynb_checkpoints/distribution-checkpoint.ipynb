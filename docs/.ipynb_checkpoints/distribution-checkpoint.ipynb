{
 "cells": [
  {
   "cell_type": "markdown",
   "metadata": {},
   "source": [
    "# Distribution"
   ]
  },
  {
   "cell_type": "markdown",
   "metadata": {},
   "source": [
    "A [distribution](https://en.wikipedia.org/wiki/Probability_distribution) describes the spread and tendency of a collection of numeric data. In this case, the spread is the relative distance of a data point to the other data points. You can think of this as data points being grouped close to one another, or spread far apart from one another. A common measurement of this spread is [variance](https://en.wikipedia.org/wiki/Variance), which is the spread from the mean of a distribution.\n",
    "\n",
    "[Mean](https://en.wikipedia.org/wiki/Mean) measures the central tendency of a distribution. Tendency refers to when data points \"tend\" to group closely to one another. This is easily calculated by summing all the values of the data points and dividing by the total number of data points **n**.\n",
    "\n",
    "A distribution is represented on a graph by a [histogram](https://en.wikipedia.org/wiki/Histogram). A histogram charts a distribution by separating the numeric data in the distribution into discrete bins along the x-axis. These bins are charted as bars, where the height of each bar represents how many numeric values are in that bin.\n",
    "\n",
    "A distribution represented by a histogram closely resembles a [probability density function](https://en.wikipedia.org/wiki/Probability_density_function) for continuous numeric data, or a [probability mass function](https://en.wikipedia.org/wiki/Probability_mass_function) for discrete numeric data."
   ]
  },
  {
   "cell_type": "markdown",
   "metadata": {},
   "source": [
    "## Interpreting the Graphs"
   ]
  },
  {
   "cell_type": "markdown",
   "metadata": {},
   "source": [
    "The distribution analysis can show three graphs, the histogram, boxplot, and cumulative distribution plot. "
   ]
  },
  {
   "cell_type": "markdown",
   "metadata": {},
   "source": [
    "Let's first import sci-analysis and setup some variables to use in these examples."
   ]
  },
  {
   "cell_type": "code",
   "execution_count": 1,
   "metadata": {},
   "outputs": [],
   "source": [
    "import numpy as np\n",
    "import scipy.stats as st\n",
    "from sci_analysis import analyze\n",
    "\n",
    "%matplotlib inline"
   ]
  },
  {
   "cell_type": "code",
   "execution_count": 2,
   "metadata": {},
   "outputs": [],
   "source": [
    "# Create sequence from random variables.\n",
    "np.random.seed(987654321)\n",
    "sequence = st.norm.rvs(2, 0.45, size=2000)"
   ]
  },
  {
   "cell_type": "markdown",
   "metadata": {},
   "source": [
    "### Histogram"
   ]
  },
  {
   "cell_type": "markdown",
   "metadata": {},
   "source": [
    "The histogram, as described above, separates numeric data into discrete bins along the x-axis. The y-axis is the probability that a data point from a given distribution will belong to a particular bin."
   ]
  },
  {
   "cell_type": "code",
   "execution_count": 4,
   "metadata": {},
   "outputs": [
    {
     "data": {
      "image/png": "[encoded data removed]",
      "text/plain": [
       "<Figure size 360x288 with 1 Axes>"
      ]
     },
     "metadata": {
      "needs_background": "light"
     },
     "output_type": "display_data"
    },
    {
     "name": "stdout",
     "output_type": "stream",
     "text": [
      "\n",
      "\n",
      "Statistics\n",
      "----------\n",
      "\n",
      "n         =  2000\n",
      "Mean      =  2.0220\n",
      "Std Dev   =  0.4568\n",
      "Std Error =  0.0102\n",
      "Skewness  = -0.0017\n",
      "Kurtosis  = -0.0747\n",
      "Maximum   =  3.8397\n",
      "75%       =  2.3453\n",
      "50%       =  2.0295\n",
      "25%       =  1.7090\n",
      "Minimum   =  0.5786\n",
      "IQR       =  0.6363\n",
      "Range     =  3.2611\n",
      "\n",
      "\n",
      "Shapiro-Wilk test for normality\n",
      "-------------------------------\n",
      "\n",
      "alpha   =  0.0500\n",
      "W value =  0.9993\n",
      "p value =  0.6430\n",
      "\n",
      "H0: Data is normally distributed\n",
      "\n"
     ]
    }
   ],
   "source": [
    "analyze(\n",
    "    sequence, \n",
    "    boxplot=False,\n",
    ")"
   ]
  },
  {
   "cell_type": "markdown",
   "metadata": {},
   "source": [
    "### Boxplot"
   ]
  },
  {
   "cell_type": "markdown",
   "metadata": {},
   "source": [
    "Boxplots in sci-analysis are actually a hybrid of two distribution visualization techniques, the boxplot and the [violin plot](https://en.wikipedia.org/wiki/Violin_plot). Boxplots are a good way to quickly understand a distribution, but can be misleading when the distribution is [multimodal](https://en.wikipedia.org/wiki/Multimodal_distribution). A violin plot does a much better job at showing local maxima and minima of a distribution.\n",
    "\n",
    "In the center of each box is a red line and green triangle. The green triangle represents the mean of the group while the red line represents the median, sometimes referred to as the second quartile (Q2) or 50% line. The circles that might be seen at either end of the boxplot are outliers, and referred to as such because they are in the bottom 5% and top 95% of the distribution."
   ]
  },
  {
   "cell_type": "code",
   "execution_count": 5,
   "metadata": {},
   "outputs": [
    {
     "data": {
      "image/png": "[encoded data removed]",
      "text/plain": [
       "<Figure size 360x324 with 2 Axes>"
      ]
     },
     "metadata": {
      "needs_background": "light"
     },
     "output_type": "display_data"
    },
    {
     "name": "stdout",
     "output_type": "stream",
     "text": [
      "\n",
      "\n",
      "Statistics\n",
      "----------\n",
      "\n",
      "n         =  2000\n",
      "Mean      =  2.0220\n",
      "Std Dev   =  0.4568\n",
      "Std Error =  0.0102\n",
      "Skewness  = -0.0017\n",
      "Kurtosis  = -0.0747\n",
      "Maximum   =  3.8397\n",
      "75%       =  2.3453\n",
      "50%       =  2.0295\n",
      "25%       =  1.7090\n",
      "Minimum   =  0.5786\n",
      "IQR       =  0.6363\n",
      "Range     =  3.2611\n",
      "\n",
      "\n",
      "Shapiro-Wilk test for normality\n",
      "-------------------------------\n",
      "\n",
      "alpha   =  0.0500\n",
      "W value =  0.9993\n",
      "p value =  0.6430\n",
      "\n",
      "H0: Data is normally distributed\n",
      "\n"
     ]
    }
   ],
   "source": [
    "analyze(sequence)"
   ]
  },
  {
   "cell_type": "markdown",
   "metadata": {},
   "source": [
    "### Cumulative Distribution Function"
   ]
  },
  {
   "cell_type": "markdown",
   "metadata": {},
   "source": [
    "The cumulative distribution function (cdf) differs from the probability density function in that it directly shows the probability of a data point occurring at a particular value in the distribution. The x-axis is the value in the distribution and the y-axis is the probability. For example, the center line of the y-axis is the 0.5 line (also known as the second quartile or Q2), and where the cdf crosses the 0.5 line is the median of the distribution."
   ]
  },
  {
   "cell_type": "code",
   "execution_count": 3,
   "metadata": {},
   "outputs": [
    {
     "data": {
      "image/png": "[encoded data removed]",
      "text/plain": [
       "<Figure size 360x432 with 2 Axes>"
      ]
     },
     "metadata": {
      "needs_background": "light"
     },
     "output_type": "display_data"
    },
    {
     "name": "stdout",
     "output_type": "stream",
     "text": [
      "\n",
      "\n",
      "Statistics\n",
      "----------\n",
      "\n",
      "n         =  2000\n",
      "Mean      =  2.0220\n",
      "Std Dev   =  0.4568\n",
      "Std Error =  0.0102\n",
      "Skewness  = -0.0017\n",
      "Kurtosis  = -0.0747\n",
      "Maximum   =  3.8397\n",
      "75%       =  2.3453\n",
      "50%       =  2.0295\n",
      "25%       =  1.7090\n",
      "Minimum   =  0.5786\n",
      "IQR       =  0.6363\n",
      "Range     =  3.2611\n",
      "\n",
      "\n",
      "Shapiro-Wilk test for normality\n",
      "-------------------------------\n",
      "\n",
      "alpha   =  0.0500\n",
      "W value =  0.9993\n",
      "p value =  0.6430\n",
      "\n",
      "H0: Data is normally distributed\n",
      "\n"
     ]
    }
   ],
   "source": [
    "analyze(\n",
    "    sequence, \n",
    "    boxplot=False, \n",
    "    cdf=True,\n",
    ")"
   ]
  },
  {
   "cell_type": "markdown",
   "metadata": {},
   "source": [
    "## Interpreting the Statistics"
   ]
  },
  {
   "cell_type": "markdown",
   "metadata": {},
   "source": [
    "There are two types of data that accompany the distribution analysis -- the summary statistics and the test for normality. \n",
    "\n",
    "### Summary Statistics\n",
    "* **n** - The number of data points in the analysis.\n",
    "* **Mean** - The arithmetic mean or average of the analysis.\n",
    "* **Std Dev** - The [standard deviation](https://en.wikipedia.org/wiki/Standard_deviation) of the analysis.\n",
    "* **Std Error** - The [standard error](https://en.wikipedia.org/wiki/Standard_error) of the analysis.\n",
    "* **Skewness** - A measure of how [skewed](https://en.wikipedia.org/wiki/Skewness) the distribution is towards the min or max.\n",
    "* **Kurtosis** - The [kurtosis](https://en.wikipedia.org/wiki/Kurtosis) is a measure of how peaky the distribution is.\n",
    "* **Maximum** - The largest value in the distribution.\n",
    "* **75%** - The third [quartile](https://en.wikipedia.org/wiki/Quartile) (Q3) of the distribution.\n",
    "* **50%** - The second [quartile](https://en.wikipedia.org/wiki/Quartile) (Q2) or median of the distribution.\n",
    "* **25%** - The first [quartile](https://en.wikipedia.org/wiki/Quartile) (Q1) of the distribution.\n",
    "* **Minimum** - The smallest value in the distribution.\n",
    "* **IQR** - The [interquartile](https://en.wikipedia.org/wiki/Interquartile_range) range of the distribution, which is calculated by Q3 - Q1.\n",
    "* **Range** - The range of the distribution measured by Maximum - Minimum."
   ]
  },
  {
   "cell_type": "markdown",
   "metadata": {},
   "source": [
    "### Test for normality"
   ]
  },
  {
   "cell_type": "markdown",
   "metadata": {},
   "source": [
    "The [Shapiro-Wilk test](https://en.wikipedia.org/wiki/Shapiro–Wilk_test) attempts to determine if the distribution closely resembles the normal distribution. If the p value is less than or equal to alpha, the distribution is considered to not be normally distributed."
   ]
  },
  {
   "cell_type": "markdown",
   "metadata": {},
   "source": [
    "## Usage"
   ]
  },
  {
   "cell_type": "raw",
   "metadata": {},
   "source": [
    ".. py:function:: analyze(sequence[, box_plot=True, cdf=False, sample=False, bins=20, title='Distribution', name='Data', xname='Data', yname='Probability', save_to=None])\n",
    "\n",
    "    Perform a Probability Distribution analysis on sequence.\n",
    "    \n",
    "    :param array-like sequence: The array-like object to analyze. It can be a list, tuple, numpy array or pandas Series of numeric values.\n",
    "    :param bool boxplot: Display the accompanying box plot if **True**.\n",
    "    :param bool cdf: Display the accompanying Cumulative Distribution Plot if **True**.\n",
    "    :param bool sample: Sets x-bar and s if **True**, else mu and sigma when calculating summary statistics.\n",
    "    :param int bins: The number of histogram bins to draw. The default value is 20.\n",
    "    :param str title: The title of the graph.\n",
    "    :param str name: The name of the distribution to show on the graph.\n",
    "    :param str xname: Alias for name.\n",
    "    :param str yname: The label of the y-axis of the histogram."
   ]
  },
  {
   "cell_type": "markdown",
   "metadata": {},
   "source": [
    "## Argument Examples"
   ]
  },
  {
   "cell_type": "markdown",
   "metadata": {},
   "source": [
    "### sequence"
   ]
  },
  {
   "cell_type": "markdown",
   "metadata": {},
   "source": [
    "The bare minimum requirement for performing a Distribution analysis. Should be an array-like of numeric values."
   ]
  },
  {
   "cell_type": "code",
   "execution_count": 4,
   "metadata": {},
   "outputs": [
    {
     "data": {
      "image/png": "[encoded data removed]",
      "text/plain": [
       "<Figure size 360x324 with 2 Axes>"
      ]
     },
     "metadata": {
      "needs_background": "light"
     },
     "output_type": "display_data"
    },
    {
     "name": "stdout",
     "output_type": "stream",
     "text": [
      "\n",
      "\n",
      "Statistics\n",
      "----------\n",
      "\n",
      "n         =  2000\n",
      "Mean      =  2.0220\n",
      "Std Dev   =  0.4568\n",
      "Std Error =  0.0102\n",
      "Skewness  = -0.0017\n",
      "Kurtosis  = -0.0747\n",
      "Maximum   =  3.8397\n",
      "75%       =  2.3453\n",
      "50%       =  2.0295\n",
      "25%       =  1.7090\n",
      "Minimum   =  0.5786\n",
      "IQR       =  0.6363\n",
      "Range     =  3.2611\n",
      "\n",
      "\n",
      "Shapiro-Wilk test for normality\n",
      "-------------------------------\n",
      "\n",
      "alpha   =  0.0500\n",
      "W value =  0.9993\n",
      "p value =  0.6430\n",
      "\n",
      "H0: Data is normally distributed\n",
      "\n"
     ]
    }
   ],
   "source": [
    "analyze(sequence)"
   ]
  },
  {
   "cell_type": "markdown",
   "metadata": {},
   "source": [
    "### boxplot"
   ]
  },
  {
   "cell_type": "markdown",
   "metadata": {},
   "source": [
    "Controls whether the [boxplot](https://en.wikipedia.org/wiki/Box_plot) above the histogram is displayed or not. The default value is **True**."
   ]
  },
  {
   "cell_type": "code",
   "execution_count": 6,
   "metadata": {},
   "outputs": [
    {
     "data": {
      "image/png": "[encoded data removed]",
      "text/plain": [
       "<Figure size 360x288 with 1 Axes>"
      ]
     },
     "metadata": {
      "needs_background": "light"
     },
     "output_type": "display_data"
    },
    {
     "name": "stdout",
     "output_type": "stream",
     "text": [
      "\n",
      "\n",
      "Statistics\n",
      "----------\n",
      "\n",
      "n         =  2000\n",
      "Mean      =  2.0220\n",
      "Std Dev   =  0.4568\n",
      "Std Error =  0.0102\n",
      "Skewness  = -0.0017\n",
      "Kurtosis  = -0.0747\n",
      "Maximum   =  3.8397\n",
      "75%       =  2.3453\n",
      "50%       =  2.0295\n",
      "25%       =  1.7090\n",
      "Minimum   =  0.5786\n",
      "IQR       =  0.6363\n",
      "Range     =  3.2611\n",
      "\n",
      "\n",
      "Shapiro-Wilk test for normality\n",
      "-------------------------------\n",
      "\n",
      "alpha   =  0.0500\n",
      "W value =  0.9993\n",
      "p value =  0.6430\n",
      "\n",
      "H0: Data is normally distributed\n",
      "\n"
     ]
    }
   ],
   "source": [
    "analyze(\n",
    "    sequence, \n",
    "    boxplot=False,\n",
    ")"
   ]
  },
  {
   "cell_type": "markdown",
   "metadata": {},
   "source": [
    "### cdf"
   ]
  },
  {
   "cell_type": "markdown",
   "metadata": {},
   "source": [
    "Controls whether the [cumulative distribution function](https://en.wikipedia.org/wiki/Cumulative_distribution_function) is displayed or not. The default value is **False**."
   ]
  },
  {
   "cell_type": "code",
   "execution_count": 7,
   "metadata": {},
   "outputs": [
    {
     "data": {
      "image/png": "[encoded data removed]",
      "text/plain": [
       "<Figure size 360x468 with 3 Axes>"
      ]
     },
     "metadata": {
      "needs_background": "light"
     },
     "output_type": "display_data"
    },
    {
     "name": "stdout",
     "output_type": "stream",
     "text": [
      "\n",
      "\n",
      "Statistics\n",
      "----------\n",
      "\n",
      "n         =  2000\n",
      "Mean      =  2.0220\n",
      "Std Dev   =  0.4568\n",
      "Std Error =  0.0102\n",
      "Skewness  = -0.0017\n",
      "Kurtosis  = -0.0747\n",
      "Maximum   =  3.8397\n",
      "75%       =  2.3453\n",
      "50%       =  2.0295\n",
      "25%       =  1.7090\n",
      "Minimum   =  0.5786\n",
      "IQR       =  0.6363\n",
      "Range     =  3.2611\n",
      "\n",
      "\n",
      "Shapiro-Wilk test for normality\n",
      "-------------------------------\n",
      "\n",
      "alpha   =  0.0500\n",
      "W value =  0.9993\n",
      "p value =  0.6430\n",
      "\n",
      "H0: Data is normally distributed\n",
      "\n"
     ]
    }
   ],
   "source": [
    "analyze(\n",
    "    sequence, \n",
    "    cdf=True,\n",
    ")"
   ]
  },
  {
   "cell_type": "markdown",
   "metadata": {},
   "source": [
    "### sample"
   ]
  },
  {
   "cell_type": "markdown",
   "metadata": {},
   "source": [
    "Controls whether the analysis is performed assuming whether *sequence* is a sample if **True**, or a population if **False**. The default value is **False**."
   ]
  },
  {
   "cell_type": "code",
   "execution_count": 8,
   "metadata": {},
   "outputs": [
    {
     "data": {
      "image/png": "[encoded data removed]",
      "text/plain": [
       "<Figure size 360x324 with 2 Axes>"
      ]
     },
     "metadata": {
      "needs_background": "light"
     },
     "output_type": "display_data"
    },
    {
     "name": "stdout",
     "output_type": "stream",
     "text": [
      "\n",
      "\n",
      "Statistics\n",
      "----------\n",
      "\n",
      "n         =  2000\n",
      "Mean      =  2.0220\n",
      "Std Dev   =  0.4569\n",
      "Std Error =  0.0102\n",
      "Skewness  = -0.0017\n",
      "Kurtosis  = -0.0747\n",
      "Maximum   =  3.8397\n",
      "75%       =  2.3453\n",
      "50%       =  2.0295\n",
      "25%       =  1.7090\n",
      "Minimum   =  0.5786\n",
      "IQR       =  0.6363\n",
      "Range     =  3.2611\n",
      "\n",
      "\n",
      "Shapiro-Wilk test for normality\n",
      "-------------------------------\n",
      "\n",
      "alpha   =  0.0500\n",
      "W value =  0.9993\n",
      "p value =  0.6430\n",
      "\n",
      "H0: Data is normally distributed\n",
      "\n"
     ]
    }
   ],
   "source": [
    "analyze(\n",
    "    sequence, \n",
    "    sample=True,\n",
    ")"
   ]
  },
  {
   "cell_type": "markdown",
   "metadata": {},
   "source": [
    "### bins"
   ]
  },
  {
   "cell_type": "markdown",
   "metadata": {},
   "source": [
    "Controls the number of bins to use for the histogram. The default value is 20."
   ]
  },
  {
   "cell_type": "code",
   "execution_count": 9,
   "metadata": {},
   "outputs": [
    {
     "data": {
      "image/png": "[encoded data removed]",
      "text/plain": [
       "<Figure size 360x324 with 2 Axes>"
      ]
     },
     "metadata": {
      "needs_background": "light"
     },
     "output_type": "display_data"
    },
    {
     "name": "stdout",
     "output_type": "stream",
     "text": [
      "\n",
      "\n",
      "Statistics\n",
      "----------\n",
      "\n",
      "n         =  2000\n",
      "Mean      =  2.0220\n",
      "Std Dev   =  0.4568\n",
      "Std Error =  0.0102\n",
      "Skewness  = -0.0017\n",
      "Kurtosis  = -0.0747\n",
      "Maximum   =  3.8397\n",
      "75%       =  2.3453\n",
      "50%       =  2.0295\n",
      "25%       =  1.7090\n",
      "Minimum   =  0.5786\n",
      "IQR       =  0.6363\n",
      "Range     =  3.2611\n",
      "\n",
      "\n",
      "Shapiro-Wilk test for normality\n",
      "-------------------------------\n",
      "\n",
      "alpha   =  0.0500\n",
      "W value =  0.9993\n",
      "p value =  0.6430\n",
      "\n",
      "H0: Data is normally distributed\n",
      "\n"
     ]
    }
   ],
   "source": [
    "analyze(\n",
    "    sequence, \n",
    "    bins=100,\n",
    ")"
   ]
  },
  {
   "cell_type": "markdown",
   "metadata": {},
   "source": [
    "### title"
   ]
  },
  {
   "cell_type": "markdown",
   "metadata": {},
   "source": [
    "The title of the distribution to display above the graph."
   ]
  },
  {
   "cell_type": "code",
   "execution_count": 10,
   "metadata": {},
   "outputs": [
    {
     "data": {
      "image/png": "[encoded data removed]",
      "text/plain": [
       "<Figure size 360x324 with 2 Axes>"
      ]
     },
     "metadata": {
      "needs_background": "light"
     },
     "output_type": "display_data"
    },
    {
     "name": "stdout",
     "output_type": "stream",
     "text": [
      "\n",
      "\n",
      "Statistics\n",
      "----------\n",
      "\n",
      "n         =  2000\n",
      "Mean      =  2.0220\n",
      "Std Dev   =  0.4568\n",
      "Std Error =  0.0102\n",
      "Skewness  = -0.0017\n",
      "Kurtosis  = -0.0747\n",
      "Maximum   =  3.8397\n",
      "75%       =  2.3453\n",
      "50%       =  2.0295\n",
      "25%       =  1.7090\n",
      "Minimum   =  0.5786\n",
      "IQR       =  0.6363\n",
      "Range     =  3.2611\n",
      "\n",
      "\n",
      "Shapiro-Wilk test for normality\n",
      "-------------------------------\n",
      "\n",
      "alpha   =  0.0500\n",
      "W value =  0.9993\n",
      "p value =  0.6430\n",
      "\n",
      "H0: Data is normally distributed\n",
      "\n"
     ]
    }
   ],
   "source": [
    "analyze(\n",
    "    sequence, \n",
    "    title='This is a Title',\n",
    ")"
   ]
  },
  {
   "cell_type": "markdown",
   "metadata": {},
   "source": [
    "### name, xname"
   ]
  },
  {
   "cell_type": "markdown",
   "metadata": {},
   "source": [
    "The name of the distribution to display on the x-axis."
   ]
  },
  {
   "cell_type": "code",
   "execution_count": 11,
   "metadata": {},
   "outputs": [
    {
     "data": {
      "image/png": "[encoded data removed]",
      "text/plain": [
       "<Figure size 360x324 with 2 Axes>"
      ]
     },
     "metadata": {
      "needs_background": "light"
     },
     "output_type": "display_data"
    },
    {
     "name": "stdout",
     "output_type": "stream",
     "text": [
      "\n",
      "\n",
      "Statistics\n",
      "----------\n",
      "\n",
      "n         =  2000\n",
      "Mean      =  2.0220\n",
      "Std Dev   =  0.4568\n",
      "Std Error =  0.0102\n",
      "Skewness  = -0.0017\n",
      "Kurtosis  = -0.0747\n",
      "Maximum   =  3.8397\n",
      "75%       =  2.3453\n",
      "50%       =  2.0295\n",
      "25%       =  1.7090\n",
      "Minimum   =  0.5786\n",
      "IQR       =  0.6363\n",
      "Range     =  3.2611\n",
      "\n",
      "\n",
      "Shapiro-Wilk test for normality\n",
      "-------------------------------\n",
      "\n",
      "alpha   =  0.0500\n",
      "W value =  0.9993\n",
      "p value =  0.6430\n",
      "\n",
      "H0: Data is normally distributed\n",
      "\n"
     ]
    }
   ],
   "source": [
    "analyze(\n",
    "    sequence, \n",
    "    name='Sequence Name',\n",
    ")"
   ]
  },
  {
   "cell_type": "code",
   "execution_count": 12,
   "metadata": {},
   "outputs": [
    {
     "data": {
      "image/png": "[encoded data removed]",
      "text/plain": [
       "<Figure size 360x324 with 2 Axes>"
      ]
     },
     "metadata": {
      "needs_background": "light"
     },
     "output_type": "display_data"
    },
    {
     "name": "stdout",
     "output_type": "stream",
     "text": [
      "\n",
      "\n",
      "Statistics\n",
      "----------\n",
      "\n",
      "n         =  2000\n",
      "Mean      =  2.0220\n",
      "Std Dev   =  0.4568\n",
      "Std Error =  0.0102\n",
      "Skewness  = -0.0017\n",
      "Kurtosis  = -0.0747\n",
      "Maximum   =  3.8397\n",
      "75%       =  2.3453\n",
      "50%       =  2.0295\n",
      "25%       =  1.7090\n",
      "Minimum   =  0.5786\n",
      "IQR       =  0.6363\n",
      "Range     =  3.2611\n",
      "\n",
      "\n",
      "Shapiro-Wilk test for normality\n",
      "-------------------------------\n",
      "\n",
      "alpha   =  0.0500\n",
      "W value =  0.9993\n",
      "p value =  0.6430\n",
      "\n",
      "H0: Data is normally distributed\n",
      "\n"
     ]
    }
   ],
   "source": [
    "analyze(\n",
    "    sequence, \n",
    "    xname='Sequence Name',\n",
    ")"
   ]
  },
  {
   "cell_type": "markdown",
   "metadata": {},
   "source": [
    "### yname"
   ]
  },
  {
   "cell_type": "markdown",
   "metadata": {},
   "source": [
    "The value to display along the y-axis."
   ]
  },
  {
   "cell_type": "code",
   "execution_count": 13,
   "metadata": {
    "scrolled": false
   },
   "outputs": [
    {
     "data": {
      "image/png": "[encoded data removed]",
      "text/plain": [
       "<Figure size 360x324 with 2 Axes>"
      ]
     },
     "metadata": {
      "needs_background": "light"
     },
     "output_type": "display_data"
    },
    {
     "name": "stdout",
     "output_type": "stream",
     "text": [
      "\n",
      "\n",
      "Statistics\n",
      "----------\n",
      "\n",
      "n         =  2000\n",
      "Mean      =  2.0220\n",
      "Std Dev   =  0.4568\n",
      "Std Error =  0.0102\n",
      "Skewness  = -0.0017\n",
      "Kurtosis  = -0.0747\n",
      "Maximum   =  3.8397\n",
      "75%       =  2.3453\n",
      "50%       =  2.0295\n",
      "25%       =  1.7090\n",
      "Minimum   =  0.5786\n",
      "IQR       =  0.6363\n",
      "Range     =  3.2611\n",
      "\n",
      "\n",
      "Shapiro-Wilk test for normality\n",
      "-------------------------------\n",
      "\n",
      "alpha   =  0.0500\n",
      "W value =  0.9993\n",
      "p value =  0.6430\n",
      "\n",
      "H0: Data is normally distributed\n",
      "\n"
     ]
    }
   ],
   "source": [
    "analyze(\n",
    "    sequence, \n",
    "    yname='Prob',\n",
    ")"
   ]
  }
 ],
 "metadata": {
  "kernelspec": {
   "display_name": "Python 3",
   "language": "python",
   "name": "python3"
  },
  "language_info": {
   "codemirror_mode": {
    "name": "ipython",
    "version": 3
   },
   "file_extension": ".py",
   "mimetype": "text/x-python",
   "name": "python",
   "nbconvert_exporter": "python",
   "pygments_lexer": "ipython3",
   "version": "3.7.3"
  }
 },
 "nbformat": 4,
 "nbformat_minor": 2
}
