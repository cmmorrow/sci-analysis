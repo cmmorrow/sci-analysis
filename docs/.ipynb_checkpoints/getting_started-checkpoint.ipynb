{
 "cells": [
  {
   "cell_type": "markdown",
   "metadata": {},
   "source": [
    "# Getting started with sci-analysis"
   ]
  },
  {
   "cell_type": "markdown",
   "metadata": {},
   "source": [
    "sci-analysis requires python 2.7, 3.5, 3.6, or 3.7.\n",
    "\n",
    "If one of these four version of python is already installed then this section can be skipped.\n",
    "\n",
    "If you use MacOS or Linux, python should already be installed. You can check by opening a terminal window and typing ``which python`` on the command line. To verify what version of python you have installed, type ``python --version`` at the command line. If the version is 2.7.x, 3.5.x, 3.6.x, or 3.7.x where x is any number, sci-analysis should work properly.\n",
    "\n",
    "> Note: It is not recommended to use sci-analysis with the system installed python. This is because the version of python that comes with your OS will require root permission to manage, might be changed when upgrading the OS, and can break your OS if critical packages are accidentally removed. More info on why the system python should not be used can be found here: https://github.com/MacPython/wiki/wiki/Which-Python\n",
    "\n",
    "If you are on Windows, you might need to install python. You can check to see if python is installed by clicking the Start button, typing ``cmd`` in the run text box, then type ``python.exe`` on the command line. If you receive an error message, you need to install python. \n",
    "\n",
    "The easiest way to install python on any OS is by installing Anaconda or Mini-conda from this page:\n",
    "\n",
    "<https://www.continuum.io/downloads>\n",
    "\n",
    "If you are on MacOS and have GCC installed, python can be installed with homebrew using the command:\n",
    "```\n",
    "brew install python\n",
    "```\n",
    "\n",
    "If you are on Linux, python can be installed with pyenv using the instructions here:\n",
    "<https://github.com/pyenv/pyenv>\n",
    "\n",
    "If you are on Windows, you can download the python binary from the following page, but be warned that compiling the required packages will be required using this method:\n",
    "\n",
    "<https://www.python.org/downloads/windows/>"
   ]
  },
  {
   "cell_type": "markdown",
   "metadata": {},
   "source": [
    "## Installing sci-analysis"
   ]
  },
  {
   "cell_type": "markdown",
   "metadata": {},
   "source": [
    "sci-analysis can be installed with pip by typing the following:\n",
    "\n",
    "```\n",
    "pip install sci-analysis\n",
    "```\n",
    "\n",
    "On Linux, you can install pip from your OS package manager. If you have Anaconda or Mini-conda, pip should already be installed. Otherwise, you can download pip from the following page:\n",
    "\n",
    "<https://pypi.python.org/pypi/pip>\n",
    "\n",
    "sci-analysis works best in conjunction with the excellent pandas and jupyter notebook python packages. If you don't have either of these packages installed, you can install them by typing the following:\n",
    "\n",
    "```\n",
    "pip install pandas\n",
    "pip install jupyter\n",
    "```"
   ]
  }
 ],
 "metadata": {
  "kernelspec": {
   "display_name": "Python 3",
   "language": "python",
   "name": "python3"
  },
  "language_info": {
   "codemirror_mode": {
    "name": "ipython",
    "version": 3
   },
   "file_extension": ".py",
   "mimetype": "text/x-python",
   "name": "python",
   "nbconvert_exporter": "python",
   "pygments_lexer": "ipython3",
   "version": "3.7.3"
  }
 },
 "nbformat": 4,
 "nbformat_minor": 2
}
